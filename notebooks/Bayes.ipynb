{
 "cells": [
  {
   "cell_type": "code",
   "execution_count": 5,
   "metadata": {},
   "outputs": [],
   "source": [
    "import numpy as np\n",
    "import matplotlib.pyplot as plt\n",
    "import os\n",
    "from skopt.space import Real, Integer\n",
    "from skopt import Optimizer\n",
    "from skopt.utils import dump, load"
   ]
  },
  {
   "cell_type": "markdown",
   "metadata": {},
   "source": [
    "First define the dimensions: polymer length and the umbrella\n",
    "\n",
    "CV space sampled continuously from 1.6 to 6.6 nm COM separation"
   ]
  },
  {
   "cell_type": "code",
   "execution_count": 2,
   "metadata": {},
   "outputs": [],
   "source": [
    "dim1 = Integer(name='Polymer length', low=0, high=25)\n",
    "dim2 = Real(name='CV', low=1.6, high=6.6)"
   ]
  },
  {
   "cell_type": "markdown",
   "metadata": {},
   "source": [
    "Loading the optimizer"
   ]
  },
  {
   "cell_type": "code",
   "execution_count": 3,
   "metadata": {},
   "outputs": [],
   "source": [
    "optimizer = Optimizer(dimensions=[dim1, dim2],\n",
    "    base_estimator=\"gp\",\n",
    "    n_random_starts=0,\n",
    "    n_initial_points=0,\n",
    "    n_jobs=3,\n",
    "    acq_func=\"EI\",\n",
    "    acq_optimizer=\"lbfgs\",\n",
    "    random_state=1999)"
   ]
  },
  {
   "cell_type": "markdown",
   "metadata": {},
   "source": [
    "First load initial data into the model"
   ]
  },
  {
   "cell_type": "code",
   "execution_count": 4,
   "metadata": {},
   "outputs": [
    {
     "data": {
      "text/plain": [
       "          fun: -30.268820789473633\n",
       "            x: [0, 1.6]\n",
       "    func_vals: [-3.027e+01  1.458e+01 ...  3.855e-01 -7.640e-01]\n",
       "      x_iters: [[0, 1.6], [0, 2.1], [0, 2.6], [0, 3.1], [0, 3.6], [0, 4.1], [0, 4.6], [0, 5.1], [0, 5.6], [0, 6.1], [0, 6.6], [10, 1.6], [10, 2.1], [10, 2.6], [10, 3.1], [10, 3.6], [10, 4.1], [10, 4.6], [10, 5.1], [10, 5.6], [10, 6.1], [10, 6.6], [20, 1.6], [20, 2.1], [20, 2.6], [20, 3.1], [20, 3.6], [20, 4.1], [20, 4.6], [20, 5.1], [20, 5.6], [20, 6.1], [20, 6.6]]\n",
       "       models: [GaussianProcessRegressor(kernel=1**2 * Matern(length_scale=[1, 1], nu=2.5) + WhiteKernel(noise_level=1),\n",
       "                                        n_restarts_optimizer=2, noise='gaussian',\n",
       "                                        normalize_y=True, random_state=1393803523)]\n",
       "        space: Space([Integer(low=0, high=25, prior='uniform', transform='normalize'),\n",
       "                      Real(low=1.6, high=6.6, prior='uniform', transform='normalize')])\n",
       " random_state: RandomState(MT19937)\n",
       "        specs:     args:              dimensions: [Integer(low=0, high=25, prior='uniform', transform='normalize'), Real(low=1.6, high=6.6, prior='uniform', transform='normalize')]\n",
       "                                  base_estimator: gp\n",
       "                                 n_random_starts: 0\n",
       "                                n_initial_points: 0\n",
       "                         initial_point_generator: random\n",
       "                                          n_jobs: 3\n",
       "                                        acq_func: EI\n",
       "                                   acq_optimizer: lbfgs\n",
       "                                    random_state: 1999\n",
       "                                model_queue_size: None\n",
       "                                space_constraint: None\n",
       "                                 acq_func_kwargs: None\n",
       "                            acq_optimizer_kwargs: None\n",
       "                                avoid_duplicates: True\n",
       "               function: Optimizer"
      ]
     },
     "execution_count": 4,
     "metadata": {},
     "output_type": "execute_result"
    }
   ],
   "source": [
    "ini_points = [[0,1.6],\n",
    "              [0,2.1],\n",
    "              [0,2.6],\n",
    "              [0,3.1],\n",
    "              [0,3.6],\n",
    "              [0,4.1],\n",
    "              [0,4.6],\n",
    "              [0,5.1],\n",
    "              [0,5.6],\n",
    "              [0,6.1],\n",
    "              [0,6.6],\n",
    "              [10,1.6],\n",
    "              [10,2.1],\n",
    "              [10,2.6],\n",
    "              [10,3.1],\n",
    "              [10,3.6],\n",
    "              [10,4.1],\n",
    "              [10,4.6],\n",
    "              [10,5.1],\n",
    "              [10,5.6],\n",
    "              [10,6.1],\n",
    "              [10,6.6],\n",
    "              [20,1.6],\n",
    "              [20,2.1],\n",
    "              [20,2.6],\n",
    "              [20,3.1],\n",
    "              [20,3.6],\n",
    "              [20,4.1],\n",
    "              [20,4.6],\n",
    "              [20,5.1],\n",
    "              [20,5.6],\n",
    "              [20,6.1],\n",
    "              [20,6.6]\n",
    "              ]\n",
    "\n",
    "ini_data=[-30.268820789473633,\n",
    "           14.579715052631622,\n",
    "           19.190460644736888,   \n",
    "           10.33424946052636,\n",
    "           14.856456881578996,\n",
    "           21.62012953947351,\n",
    "           13.628588289473507,\n",
    "           0.012775631578769259,\n",
    "           0.3406779078945591,\n",
    "           12.508910973684033,\n",
    "           0.21452071052613803,\n",
    "           -25.188872381578904,\n",
    "           16.960575907894782,\n",
    "           21.57553236842109,\n",
    "           48.089532302631625,\n",
    "           -3.7394148421052193,\n",
    "           0.7589639605261377,\n",
    "           -0.356555881579125,\n",
    "           0.9089245263156126,\n",
    "           0.22910882894719065,\n",
    "           0.7744599078945595,\n",
    "           0.34886796052613767,\n",
    "           -29.811372671052588,\n",
    "           15.544790342105308,\n",
    "           19.071600368421098,\n",
    "           11.658016315789519,\n",
    "           6.284280171052677,\n",
    "           11.020756381578769,\n",
    "           -1.3047369078949158,\n",
    "           25.45458977631561,\n",
    "           0.0019442236840332768,\n",
    "           0.3854878947366644,\n",
    "           -0.7639657763159674]\n",
    "\n",
    "optimizer.tell(x=ini_points,y=ini_data)"
   ]
  },
  {
   "cell_type": "markdown",
   "metadata": {},
   "source": [
    "Start optimization with the ask-tell interface\n",
    "\n",
    "Use parallelization so that a few points are sampled at the same time?"
   ]
  },
  {
   "cell_type": "code",
   "execution_count": null,
   "metadata": {},
   "outputs": [],
   "source": [
    "# loading of a previous state\n",
    "load()"
   ]
  },
  {
   "cell_type": "code",
   "execution_count": null,
   "metadata": {},
   "outputs": [],
   "source": [
    "for i in range(3):\n",
    "    x = optimizer.ask()\n",
    "    Parallel(n_jobs=4)(delayed())\n",
    "    # check if plastic already was generated; if yes then skip the next 4 steps\n",
    "    # gen.sh - plastic generation and preparation for simulation\n",
    "    # sbatch - submit 50ns plastic equilibration; wait for dry.gro file\n",
    "    # put_together.py - combine the structure of equilibrated plastic and the protein\n",
    "    # protplastprep.sh - prepare protein+plastic for equilibration\n",
    "    # sbatch - submit 100 ns protein+plastic equilibration; wait for dry.gro file (or md.tpr)\n",
    "    # prep_umb.sh - prepare the system for biased sampling run\n",
    "    # sbatch - submit 75 ns biased sampling; wait for COLVAR file\n",
    "    # y = get_force.py - calculate the force from the COLVAR file\n",
    "    optimizer.tell(x, y)\n",
    "    dump(res=Optimizer, filename=f\"state_{i}.cpt\")"
   ]
  }
 ],
 "metadata": {
  "kernelspec": {
   "display_name": "filip_env",
   "language": "python",
   "name": "python3"
  },
  "language_info": {
   "codemirror_mode": {
    "name": "ipython",
    "version": 3
   },
   "file_extension": ".py",
   "mimetype": "text/x-python",
   "name": "python",
   "nbconvert_exporter": "python",
   "pygments_lexer": "ipython3",
   "version": "3.12.0"
  }
 },
 "nbformat": 4,
 "nbformat_minor": 2
}
