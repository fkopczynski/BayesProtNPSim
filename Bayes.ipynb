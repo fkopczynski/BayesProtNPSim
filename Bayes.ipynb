{
 "cells": [
  {
   "cell_type": "code",
   "execution_count": 25,
   "metadata": {},
   "outputs": [],
   "source": [
    "import numpy as np\n",
    "import matplotlib.pyplot as plt\n",
    "import os\n",
    "from skopt.space import Real\n",
    "from skopt.space import Integer\n",
    "from skopt import Optimizer"
   ]
  },
  {
   "cell_type": "markdown",
   "metadata": {},
   "source": [
    "First define the dimensions: polymer length and the umbrella\n",
    "\n",
    "CV space sampled continuously from 1.6 to 6.6 nm COM separation"
   ]
  },
  {
   "cell_type": "code",
   "execution_count": 26,
   "metadata": {},
   "outputs": [],
   "source": [
    "dim1 = Integer(name='Polymer length', low=0, high=25)\n",
    "dim2 = Real(name='CV', low=1.6, high=6.6)"
   ]
  },
  {
   "cell_type": "markdown",
   "metadata": {},
   "source": [
    "Loading the optimizer"
   ]
  },
  {
   "cell_type": "code",
   "execution_count": 27,
   "metadata": {},
   "outputs": [],
   "source": [
    "optimizer = Optimizer(dimensions=[dim1, dim2],\n",
    "    base_estimator=\"gp\",\n",
    "    n_random_starts=0,\n",
    "    n_initial_points=0,\n",
    "    n_jobs=3,\n",
    "    acq_func=\"EI\",\n",
    "    acq_optimizer=\"lbfgs\",\n",
    "    random_state=1999)"
   ]
  },
  {
   "cell_type": "markdown",
   "metadata": {},
   "source": [
    "First load initial data into the model"
   ]
  },
  {
   "cell_type": "code",
   "execution_count": 28,
   "metadata": {},
   "outputs": [
    {
     "data": {
      "text/plain": [
       "          fun: 0\n",
       "            x: [0, 1.6]\n",
       "    func_vals: [0 0 ... 0 0]\n",
       "      x_iters: [[0, 1.6], [0, 2.1], [0, 2.6], [0, 3.1], [0, 3.6], [0, 4.1], [0, 4.6], [0, 5.1], [0, 5.6], [0, 6.1], [0, 6.6], [10, 1.6], [10, 2.1], [10, 2.6], [10, 3.1], [10, 3.6], [10, 4.1], [10, 4.6], [10, 5.1], [10, 5.6], [10, 6.1], [10, 6.6], [20, 1.6], [20, 2.1], [20, 2.6], [20, 3.1], [20, 3.6], [20, 4.1], [20, 4.6], [20, 5.1], [20, 5.6], [20, 6.1], [20, 6.6]]\n",
       "       models: [GaussianProcessRegressor(kernel=1**2 * Matern(length_scale=[1, 1], nu=2.5) + WhiteKernel(noise_level=1),\n",
       "                                        n_restarts_optimizer=2, noise='gaussian',\n",
       "                                        normalize_y=True, random_state=1393803523)]\n",
       "        space: Space([Integer(low=0, high=25, prior='uniform', transform='normalize'),\n",
       "                      Real(low=1.6, high=6.6, prior='uniform', transform='normalize')])\n",
       " random_state: RandomState(MT19937)\n",
       "        specs:     args:              dimensions: [Integer(low=0, high=25, prior='uniform', transform='normalize'), Real(low=1.6, high=6.6, prior='uniform', transform='normalize')]\n",
       "                                  base_estimator: gp\n",
       "                                 n_random_starts: 0\n",
       "                                n_initial_points: 0\n",
       "                         initial_point_generator: random\n",
       "                                          n_jobs: 3\n",
       "                                        acq_func: EI\n",
       "                                   acq_optimizer: lbfgs\n",
       "                                    random_state: 1999\n",
       "                                model_queue_size: None\n",
       "                                space_constraint: None\n",
       "                                 acq_func_kwargs: None\n",
       "                            acq_optimizer_kwargs: None\n",
       "                                avoid_duplicates: True\n",
       "               function: Optimizer"
      ]
     },
     "execution_count": 28,
     "metadata": {},
     "output_type": "execute_result"
    }
   ],
   "source": [
    "ini_points = [[0,1.6],\n",
    "              [0,2.1],\n",
    "              [0,2.6],\n",
    "              [0,3.1],\n",
    "              [0,3.6],\n",
    "              [0,4.1],\n",
    "              [0,4.6],\n",
    "              [0,5.1],\n",
    "              [0,5.6],\n",
    "              [0,6.1],\n",
    "              [0,6.6],\n",
    "              [10,1.6],\n",
    "              [10,2.1],\n",
    "              [10,2.6],\n",
    "              [10,3.1],\n",
    "              [10,3.6],\n",
    "              [10,4.1],\n",
    "              [10,4.6],\n",
    "              [10,5.1],\n",
    "              [10,5.6],\n",
    "              [10,6.1],\n",
    "              [10,6.6],\n",
    "              [20,1.6],\n",
    "              [20,2.1],\n",
    "              [20,2.6],\n",
    "              [20,3.1],\n",
    "              [20,3.6],\n",
    "              [20,4.1],\n",
    "              [20,4.6],\n",
    "              [20,5.1],\n",
    "              [20,5.6],\n",
    "              [20,6.1],\n",
    "              [20,6.6]\n",
    "              ]\n",
    "\n",
    "ini_data=[0,\n",
    "          0,\n",
    "          0,\n",
    "          0,\n",
    "          0,\n",
    "          0,\n",
    "          0,\n",
    "          0,\n",
    "          0,\n",
    "          0,\n",
    "          0,\n",
    "          0,\n",
    "          0,\n",
    "          0,\n",
    "          0,\n",
    "          0,\n",
    "          0,\n",
    "          0,\n",
    "          0,\n",
    "          0,\n",
    "          0,\n",
    "          0,\n",
    "          0,\n",
    "          0,\n",
    "          0,\n",
    "          0,\n",
    "          0,\n",
    "          0,\n",
    "          0,\n",
    "          0,\n",
    "          0,\n",
    "          0,\n",
    "          0\n",
    "          ]\n",
    "\n",
    "optimizer.tell(x=ini_points,y=ini_data)"
   ]
  },
  {
   "cell_type": "markdown",
   "metadata": {},
   "source": [
    "Start optimization with the ask-tell interface\n",
    "\n",
    "Use parallelization so that a few points are sampled at the same time?"
   ]
  },
  {
   "cell_type": "code",
   "execution_count": 13,
   "metadata": {},
   "outputs": [],
   "source": [
    "from joblib import Parallel, delayed"
   ]
  },
  {
   "cell_type": "code",
   "execution_count": null,
   "metadata": {},
   "outputs": [],
   "source": [
    "for i in range(8):\n",
    "    x = optimizer.ask()\n",
    "    y = Parallel(n_jobs=4)()\n",
    "    optimizer.tell(x,y)"
   ]
  }
 ],
 "metadata": {
  "kernelspec": {
   "display_name": "filip_env",
   "language": "python",
   "name": "python3"
  },
  "language_info": {
   "codemirror_mode": {
    "name": "ipython",
    "version": 3
   },
   "file_extension": ".py",
   "mimetype": "text/x-python",
   "name": "python",
   "nbconvert_exporter": "python",
   "pygments_lexer": "ipython3",
   "version": "3.12.0"
  }
 },
 "nbformat": 4,
 "nbformat_minor": 2
}
